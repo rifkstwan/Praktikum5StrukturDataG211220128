{
  "nbformat": 4,
  "nbformat_minor": 0,
  "metadata": {
    "colab": {
      "provenance": []
    },
    "kernelspec": {
      "name": "python3",
      "display_name": "Python 3"
    },
    "language_info": {
      "name": "python"
    }
  },
  "cells": [
    {
      "cell_type": "markdown",
      "source": [
        "**bubble sort**"
      ],
      "metadata": {
        "id": "apLBPvAVu1GW"
      }
    },
    {
      "cell_type": "code",
      "execution_count": 1,
      "metadata": {
        "id": "schP0HRcuOJc"
      },
      "outputs": [],
      "source": [
        "def bubbleSort(arr):\n",
        "    n = len(arr)\n",
        "    swapped = False\n",
        "\n",
        "    for i in range(n-1):\n",
        "        for j in range(0, n-i-1):\n",
        "            if arr[j] > arr[j + 1]:\n",
        "                swapped = True\n",
        "                arr[j], arr[j + 1] = arr[j + 1], arr[j]"
      ]
    },
    {
      "cell_type": "code",
      "source": [
        "# Driver code to test above\n",
        "arr = [50, 54, 31, 29, 80, 43,76]\n",
        "bubbleSort(arr)\n",
        "print(\"Sorted array is:\")\n",
        "for i in range(len(arr)):\n",
        "    print(\"% d\" % arr[i], end=\" \")"
      ],
      "metadata": {
        "colab": {
          "base_uri": "https://localhost:8080/"
        },
        "id": "7CF93hw2ucJm",
        "outputId": "c5077e6d-ca26-418f-b290-0728025a93c0"
      },
      "execution_count": 2,
      "outputs": [
        {
          "output_type": "stream",
          "name": "stdout",
          "text": [
            "Sorted array is:\n",
            " 29  31  43  50  54  76  80 "
          ]
        }
      ]
    },
    {
      "cell_type": "markdown",
      "source": [
        "**selection sort**"
      ],
      "metadata": {
        "id": "sStX1JW7vAk7"
      }
    },
    {
      "cell_type": "code",
      "source": [
        "import sys\n",
        "A = [69, 70, 21, 54, 34]\n",
        "for i in range(len(A)):\n",
        "    min_idx = i\n",
        "    for j in range(i+1, len(A)):\n",
        "        if A[min_idx] > A[j]:\n",
        "            min_idx = j\n",
        "\n",
        "        A[i], A[min_idx] = A[min_idx], A[i]\n",
        "print (\"Sorted array\")\n",
        "for i in range(len(A)):\n",
        " print(\"%d\" %A[i],end=\" \")"
      ],
      "metadata": {
        "colab": {
          "base_uri": "https://localhost:8080/"
        },
        "id": "izydgIz7ugsF",
        "outputId": "ec89a3e0-a1b2-46f9-a138-0e5977a55f55"
      },
      "execution_count": 3,
      "outputs": [
        {
          "output_type": "stream",
          "name": "stdout",
          "text": [
            "Sorted array\n",
            "21 34 54 69 70 "
          ]
        }
      ]
    },
    {
      "cell_type": "markdown",
      "source": [
        "**insertion sort**"
      ],
      "metadata": {
        "id": "tAC8dHT5vNBz"
      }
    },
    {
      "cell_type": "code",
      "source": [
        "def insertionSort(arr):\n",
        "    for i in range(1, len(arr)):\n",
        "        key = arr[i]\n",
        "        j = i-1\n",
        "    while j >= 0 and key < arr[j] :\n",
        "        arr[j + 1] = arr[j]\n",
        "        j -= 1\n",
        "    arr[j + 1] = key"
      ],
      "metadata": {
        "id": "x7o3sfegutpN"
      },
      "execution_count": 5,
      "outputs": []
    },
    {
      "cell_type": "code",
      "source": [
        "# Driver code to test above\n",
        "arr = [34, 21, 54, 65, 20]\n",
        "insertionSort(arr)\n",
        "for i in range(len(arr)):\n",
        "    print (\"% d\" % arr[i])"
      ],
      "metadata": {
        "colab": {
          "base_uri": "https://localhost:8080/"
        },
        "id": "AzHY7w0ruxN-",
        "outputId": "cf5cb436-f61e-4760-93bf-0334803a5197"
      },
      "execution_count": 6,
      "outputs": [
        {
          "output_type": "stream",
          "name": "stdout",
          "text": [
            " 20\n",
            " 34\n",
            " 21\n",
            " 54\n",
            " 65\n"
          ]
        }
      ]
    }
  ]
}